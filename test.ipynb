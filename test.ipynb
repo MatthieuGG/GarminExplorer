{
 "cells": [
  {
   "cell_type": "code",
   "execution_count": 2,
   "metadata": {},
   "outputs": [
    {
     "data": {
      "text/plain": [
       "Index(['Activity Type', 'Date', 'Favorite', 'Title', 'Distance', 'Calories',\n",
       "       'Time', 'Avg HR', 'Max HR', 'Avg Run Cadence', 'Max Run Cadence',\n",
       "       'Avg Pace', 'Best Pace', 'Total Ascent', 'Total Descent',\n",
       "       'Avg Stride Length', 'Training Stress Score®', 'Decompression',\n",
       "       'Best Lap Time', 'Number of Laps', 'Moving Time', 'Elapsed Time',\n",
       "       'Min Elevation', 'Max Elevation'],\n",
       "      dtype='object')"
      ]
     },
     "execution_count": 2,
     "metadata": {},
     "output_type": "execute_result"
    }
   ],
   "source": [
    "import pandas as pd \n",
    "\n",
    "matt = pd.read_csv(\"C:/Users/Matthieu/Downloads/Activities (1).csv\")\n",
    "matt.columns\n"
   ]
  },
  {
   "cell_type": "code",
   "execution_count": null,
   "metadata": {},
   "outputs": [],
   "source": []
  }
 ],
 "metadata": {
  "kernelspec": {
   "display_name": "Python 3",
   "language": "python",
   "name": "python3"
  },
  "language_info": {
   "codemirror_mode": {
    "name": "ipython",
    "version": 3
   },
   "file_extension": ".py",
   "mimetype": "text/x-python",
   "name": "python",
   "nbconvert_exporter": "python",
   "pygments_lexer": "ipython3",
   "version": "3.11.9"
  }
 },
 "nbformat": 4,
 "nbformat_minor": 2
}
